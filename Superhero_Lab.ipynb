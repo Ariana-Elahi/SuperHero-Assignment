{
  "nbformat": 4,
  "nbformat_minor": 0,
  "metadata": {
    "colab": {
      "provenance": [],
      "include_colab_link": true
    },
    "kernelspec": {
      "name": "python3",
      "display_name": "Python 3"
    },
    "language_info": {
      "name": "python"
    }
  },
  "cells": [
    {
      "cell_type": "markdown",
      "metadata": {
        "id": "view-in-github",
        "colab_type": "text"
      },
      "source": [
        "<a href=\"https://colab.research.google.com/github/Ariana-Elahi/SuperHero-Assignment/blob/main/Superhero_Lab.ipynb\" target=\"_parent\"><img src=\"https://colab.research.google.com/assets/colab-badge.svg\" alt=\"Open In Colab\"/></a>"
      ]
    },
    {
      "cell_type": "code",
      "source": [
        "# SuperHero Lab\n",
        "# Bharathi Thambidurai\n",
        "# Khushi Mehta\n",
        "# Ariana Elahi"
      ],
      "metadata": {
        "id": "gyXyBYvhwx5h"
      },
      "execution_count": null,
      "outputs": []
    },
    {
      "cell_type": "code",
      "execution_count": null,
      "metadata": {
        "colab": {
          "base_uri": "https://localhost:8080/"
        },
        "id": "JN1j_REDucCn",
        "outputId": "c2e856fb-d7f4-4866-959f-981486ee8baf"
      },
      "outputs": [
        {
          "output_type": "stream",
          "name": "stdout",
          "text": [
            "Database schema created successfully.\n"
          ]
        }
      ],
      "source": [
        "import sqlite3\n",
        "\n",
        "# Connect to an in-memory SQLite database\n",
        "conn = sqlite3.connect('superhero.db')\n",
        "cursor = conn.cursor()\n",
        "\n",
        "# DDL statements (using SQLite syntax)\n",
        "ddl_statements = '''\n",
        "DROP TABLE IF EXISTS Heroes;\n",
        "DROP TABLE IF EXISTS Villains;\n",
        "DROP TABLE IF EXISTS Battles;\n",
        "\n",
        "CREATE TABLE Heroes (\n",
        "    HeroID INTEGER PRIMARY KEY AUTOINCREMENT,\n",
        "    HeroName VARCHAR(100) NOT NULL,\n",
        "    Powers VARCHAR(100),\n",
        "    Teams VARCHAR(100)\n",
        ");\n",
        "\n",
        "CREATE TABLE Villains (\n",
        "    VillainID INTEGER PRIMARY KEY AUTOINCREMENT,\n",
        "    VillainName VARCHAR(100) NOT NULL,\n",
        "    EvilPlan VARCHAR(200)\n",
        ");\n",
        "\n",
        "CREATE TABLE Battles (\n",
        "    BattleID INTEGER PRIMARY KEY AUTOINCREMENT,\n",
        "    HeroID INT,\n",
        "    VillainID INT,\n",
        "    Outcome VARCHAR(100)\n",
        ");\n",
        "'''\n",
        "\n",
        "# Execute the DDL script\n",
        "cursor.executescript(ddl_statements)\n",
        "conn.commit()\n",
        "print('Database schema created successfully.')\n",
        "\n",
        "cursor.close()\n",
        "conn.close()"
      ]
    },
    {
      "cell_type": "code",
      "source": [
        "import pandas as pd\n",
        "\n",
        "# Load data from CSV into a DataFrame\n",
        "df_heroes = pd.read_csv('heroes.csv')\n",
        "\n",
        "# Display the first few rows of the DataFrame\n",
        "print(df_heroes.head()) # making sure df is read in correctly\n",
        "\n",
        "# Reopen the connection\n",
        "conn = sqlite3.connect('superhero.db')\n",
        "cursor = conn.cursor()\n",
        "\n",
        "df_heroes.to_sql('Heroes', conn, if_exists='replace', index=False)\n",
        "\n",
        "# # Fetch all data from the sales table\n",
        "cursor.execute(\"SELECT * FROM Heroes\")\n",
        "rows = cursor.fetchall()\n",
        "\n",
        "# # Print the results\n",
        "print(\"All heroes data:\")\n",
        "for row in rows:\n",
        "    print(row)\n",
        "\n",
        "# Close the connection\n",
        "cursor.close()\n",
        "conn.close()"
      ],
      "metadata": {
        "id": "iShk4t5-1RUM",
        "colab": {
          "base_uri": "https://localhost:8080/"
        },
        "outputId": "a9961e81-5230-43ee-d523-8eb02448664c"
      },
      "execution_count": null,
      "outputs": [
        {
          "output_type": "stream",
          "name": "stdout",
          "text": [
            "   id        name             power            team\n",
            "0   1  Spider-Man      Web-slinging        Avengers\n",
            "1   2    Iron Man     Powered Armor        Avengers\n",
            "2   3      Batman  Genius Detective  Justice League\n",
            "3   4    Superman    Super Strength  Justice League\n",
            "4   5        Thor    God of Thunder        Avengers\n",
            "All heroes data:\n",
            "(1, 'Spider-Man', 'Web-slinging', 'Avengers')\n",
            "(2, 'Iron Man', 'Powered Armor', 'Avengers')\n",
            "(3, 'Batman', 'Genius Detective', 'Justice League')\n",
            "(4, 'Superman', 'Super Strength', 'Justice League')\n",
            "(5, 'Thor', 'God of Thunder', 'Avengers')\n",
            "(6, 'Wonder Woman', 'Amazonian Strength', 'Justice League')\n",
            "(7, 'Black Panther', 'Enhanced Agility', 'Avengers')\n",
            "(8, 'The Flash', 'Super Speed', 'Justice League')\n",
            "(9, 'Hulk', 'Super Strength', 'Avengers')\n",
            "(10, 'Doctor Strange', 'Mystic Arts', 'Avengers')\n"
          ]
        }
      ]
    },
    {
      "cell_type": "code",
      "source": [
        "# Load data from CSV into a DataFrame\n",
        "df_villains = pd.read_csv('villains.csv')\n",
        "\n",
        "# Display the first few rows of the DataFrame\n",
        "print(df_villains.head()) # making sure df is read in correctly\n",
        "\n",
        "# Reopen the connection\n",
        "conn = sqlite3.connect('superhero.db')\n",
        "cursor = conn.cursor()\n",
        "\n",
        "df_villains.to_sql('Villains', conn, if_exists='replace', index=False)\n",
        "\n",
        "# Fetch all data from the sales table\n",
        "cursor.execute(\"SELECT * FROM Villains\")\n",
        "rows = cursor.fetchall()\n",
        "\n",
        "# Print the results\n",
        "print(\"All villains data:\")\n",
        "for row in rows:\n",
        "    print(row)\n",
        "\n",
        "# Close the connection\n",
        "cursor.close()\n",
        "conn.close()"
      ],
      "metadata": {
        "colab": {
          "base_uri": "https://localhost:8080/"
        },
        "id": "TuMBvYwJ2t2b",
        "outputId": "ff05c568-6b22-4e58-deb0-6d74dbf7a710"
      },
      "execution_count": null,
      "outputs": [
        {
          "output_type": "stream",
          "name": "stdout",
          "text": [
            "   id          name                           evil_plan\n",
            "0   1  Green Goblin                  Terrorize New York\n",
            "1   2        Thanos         Collect all Infinity Stones\n",
            "2   3         Joker              Spread chaos in Gotham\n",
            "3   4    Lex Luthor                     Defeat Superman\n",
            "4   5          Loki  Trick humanity into worshiping him\n",
            "All villains data:\n",
            "(1, 'Green Goblin', 'Terrorize New York')\n",
            "(2, 'Thanos', 'Collect all Infinity Stones')\n",
            "(3, 'Joker', 'Spread chaos in Gotham')\n",
            "(4, 'Lex Luthor', 'Defeat Superman')\n",
            "(5, 'Loki', 'Trick humanity into worshiping him')\n",
            "(6, 'Ultron', 'AI world domination')\n",
            "(7, 'Darkseid', 'Control the universe')\n",
            "(8, 'Venom', 'Consume Spider-Man')\n",
            "(9, 'Magneto', 'Mutant supremacy')\n",
            "(10, 'Red Skull', 'Revive Hydra')\n"
          ]
        }
      ]
    },
    {
      "cell_type": "code",
      "source": [
        "# Load data from CSV into a DataFrame\n",
        "df_battles = pd.read_csv('battles.csv')\n",
        "\n",
        "# Display the first few rows of the DataFrame\n",
        "print(df_battles.head()) # making sure df is read in correctly\n",
        "\n",
        "# Reopen the connection\n",
        "conn = sqlite3.connect('superhero.db')\n",
        "cursor = conn.cursor()\n",
        "\n",
        "df_battles.to_sql('Battles', conn, if_exists='replace', index=False)\n",
        "\n",
        "# Fetch all data from the sales table\n",
        "cursor.execute(\"SELECT * FROM Battles\")\n",
        "rows = cursor.fetchall()\n",
        "\n",
        "# Print the results\n",
        "print(\"All battles data:\")\n",
        "for row in rows:\n",
        "    print(row)\n",
        "\n",
        "# Close the connection\n",
        "cursor.close()\n",
        "conn.close()"
      ],
      "metadata": {
        "colab": {
          "base_uri": "https://localhost:8080/"
        },
        "id": "UAJ4rS1J3Ix7",
        "outputId": "bb320c74-8e3a-4a88-d814-e4fbe0555425"
      },
      "execution_count": null,
      "outputs": [
        {
          "output_type": "stream",
          "name": "stdout",
          "text": [
            "   id  hero_id  villain_id       outcome\n",
            "0   1        1          10  Villain Wins\n",
            "1   2        9           3     Hero Wins\n",
            "2   3        8           1          Draw\n",
            "3   4        5           4  Villain Wins\n",
            "4   5        1           7     Hero Wins\n",
            "All battles data:\n",
            "(1, 1, 10, 'Villain Wins')\n",
            "(2, 9, 3, 'Hero Wins')\n",
            "(3, 8, 1, 'Draw')\n",
            "(4, 5, 4, 'Villain Wins')\n",
            "(5, 1, 7, 'Hero Wins')\n",
            "(6, 2, 8, 'Villain Wins')\n",
            "(7, 9, 8, 'Hero Wins')\n",
            "(8, 3, 2, 'Hero Wins')\n",
            "(9, 7, 5, 'Hero Wins')\n",
            "(10, 3, 1, 'Draw')\n",
            "(11, 1, 8, 'Villain Wins')\n",
            "(12, 2, 1, 'Draw')\n",
            "(13, 8, 9, 'Hero Wins')\n",
            "(14, 8, 1, 'Draw')\n",
            "(15, 6, 10, 'Draw')\n",
            "(16, 1, 1, 'Villain Wins')\n",
            "(17, 8, 3, 'Draw')\n",
            "(18, 6, 3, 'Villain Wins')\n",
            "(19, 4, 8, 'Villain Wins')\n",
            "(20, 3, 4, 'Hero Wins')\n",
            "(21, 8, 1, 'Draw')\n",
            "(22, 4, 9, 'Draw')\n",
            "(23, 3, 9, 'Draw')\n",
            "(24, 8, 9, 'Villain Wins')\n",
            "(25, 2, 5, 'Draw')\n",
            "(26, 3, 7, 'Draw')\n",
            "(27, 10, 3, 'Draw')\n",
            "(28, 3, 8, 'Draw')\n",
            "(29, 3, 5, 'Hero Wins')\n",
            "(30, 5, 5, 'Hero Wins')\n"
          ]
        }
      ]
    },
    {
      "cell_type": "markdown",
      "source": [
        "# Step 3: Querying the Database Tasks:\n",
        "\n",
        "\n",
        "- Retrieve all superheroes and their powers.\n",
        "- Find all battles where the hero won.\n",
        "- List all villains and their evil plans.\n",
        "- Determine which superhero has fought the most battles.\n",
        "\n"
      ],
      "metadata": {
        "id": "dLzHCgib31vO"
      }
    },
    {
      "cell_type": "code",
      "source": [
        "# 1: Retrieve all superheroes and their powers\n",
        "conn = sqlite3.connect('superhero.db')\n",
        "cursor = conn.cursor()\n",
        "\n",
        "# superhero namese + power come from heroes table\n",
        "print('Superheroes and their powers:')\n",
        "cursor.execute('''\n",
        "    SELECT name, power FROM Heroes\n",
        "''')\n",
        "for row in cursor.fetchall():\n",
        "    print(row)\n",
        "\n",
        "# Close the connection\n",
        "cursor.close()\n",
        "conn.close()"
      ],
      "metadata": {
        "colab": {
          "base_uri": "https://localhost:8080/"
        },
        "id": "NOA5Oh4O36bf",
        "outputId": "3197e5ed-0cf7-4600-f9a7-9cc07223fe8b"
      },
      "execution_count": null,
      "outputs": [
        {
          "output_type": "stream",
          "name": "stdout",
          "text": [
            "Superheroes and their powers:\n",
            "('Spider-Man', 'Web-slinging')\n",
            "('Iron Man', 'Powered Armor')\n",
            "('Batman', 'Genius Detective')\n",
            "('Superman', 'Super Strength')\n",
            "('Thor', 'God of Thunder')\n",
            "('Wonder Woman', 'Amazonian Strength')\n",
            "('Black Panther', 'Enhanced Agility')\n",
            "('The Flash', 'Super Speed')\n",
            "('Hulk', 'Super Strength')\n",
            "('Doctor Strange', 'Mystic Arts')\n"
          ]
        }
      ]
    },
    {
      "cell_type": "code",
      "source": [
        " # 2: Find all battles where the hero won\n",
        "conn = sqlite3.connect('superhero.db')\n",
        "cursor = conn.cursor()\n",
        "\n",
        "# find battle ids in which outcome is hero winning from battles table\n",
        "print('Battles where hero won :')\n",
        "cursor.execute('''\n",
        "    SELECT id FROM Battles\n",
        "    WHERE outcome = 'Hero Wins'\n",
        "''')\n",
        "for row in cursor.fetchall():\n",
        "    print(row[0])\n",
        "\n",
        "# Close the connection\n",
        "cursor.close()\n",
        "conn.close()"
      ],
      "metadata": {
        "id": "dedYyGVA8lzQ",
        "colab": {
          "base_uri": "https://localhost:8080/"
        },
        "outputId": "e2dae721-0ec3-4a4a-edc0-466fc968a935"
      },
      "execution_count": null,
      "outputs": [
        {
          "output_type": "stream",
          "name": "stdout",
          "text": [
            "Battles where hero won :\n",
            "2\n",
            "5\n",
            "7\n",
            "8\n",
            "9\n",
            "13\n",
            "20\n",
            "29\n",
            "30\n"
          ]
        }
      ]
    },
    {
      "cell_type": "code",
      "source": [
        "# 3: List all villains and their evil plans\n",
        "conn = sqlite3.connect('superhero.db')\n",
        "cursor = conn.cursor()\n",
        "\n",
        "# find name and evil plan from villains table\n",
        "print('Villains and their plans:')\n",
        "cursor.execute('''\n",
        "    SELECT name, evil_plan FROM Villains\n",
        "''')\n",
        "for row in cursor.fetchall():\n",
        "    print(row)\n",
        "\n",
        "# Close the connection\n",
        "cursor.close()\n",
        "conn.close()"
      ],
      "metadata": {
        "colab": {
          "base_uri": "https://localhost:8080/"
        },
        "id": "C4dYsQ59_8ux",
        "outputId": "65781178-5470-4f2a-a302-8542c5921bc9"
      },
      "execution_count": null,
      "outputs": [
        {
          "output_type": "stream",
          "name": "stdout",
          "text": [
            "Villains and their plans:\n",
            "('Green Goblin', 'Terrorize New York')\n",
            "('Thanos', 'Collect all Infinity Stones')\n",
            "('Joker', 'Spread chaos in Gotham')\n",
            "('Lex Luthor', 'Defeat Superman')\n",
            "('Loki', 'Trick humanity into worshiping him')\n",
            "('Ultron', 'AI world domination')\n",
            "('Darkseid', 'Control the universe')\n",
            "('Venom', 'Consume Spider-Man')\n",
            "('Magneto', 'Mutant supremacy')\n",
            "('Red Skull', 'Revive Hydra')\n"
          ]
        }
      ]
    },
    {
      "cell_type": "code",
      "source": [
        "# 4 Determine which superhero has fought the most battles.\n",
        "conn = sqlite3.connect('superhero.db')\n",
        "cursor = conn.cursor()\n",
        "\n",
        "cursor.execute('''\n",
        "SELECT Heroes.name, COUNT(hero_id)\n",
        "  FROM Battles\n",
        "  JOIN Heroes ON Battles.hero_id = Heroes.id\n",
        "  GROUP BY hero_id\n",
        "  ORDER BY COUNT(hero_id) DESC\n",
        "''')\n",
        "\n",
        "max_battles = cursor.fetchone()\n",
        "battles_fought = cursor.fetchall()\n",
        "\n",
        "print(f\"Superhero that fought the most battles: {max_battles[0]}\")\n",
        "\n",
        "# Close the connection\n",
        "cursor.close()\n",
        "conn.close()"
      ],
      "metadata": {
        "colab": {
          "base_uri": "https://localhost:8080/"
        },
        "id": "9Wlay_M2AJuf",
        "outputId": "0eb58edc-21e5-4d1c-cdb0-9a4c5ff23a2a"
      },
      "execution_count": null,
      "outputs": [
        {
          "output_type": "stream",
          "name": "stdout",
          "text": [
            "Superhero that fought the most battles: Batman\n"
          ]
        }
      ]
    },
    {
      "cell_type": "markdown",
      "source": [
        "# Step 4: Add a Custom Feature\n",
        "Tasks:\n",
        "- Design and implement an additional table related to\n",
        "superheroes or villains.\n",
        "- Populate it with data.\n",
        "- Write at least one query to retrieve meaningful insights from the new table.\n",
        "\n",
        "Examples of Custom Features:\n",
        "- Sidekicks for superheroes\n",
        "- Villain hideouts\n",
        "- Battle locations\n",
        "- Superhero equipment\n",
        "\n",
        "✅ Checkpoint: Ensure that the new table and queries function correctly."
      ],
      "metadata": {
        "id": "U1Oq7CeZMrpF"
      }
    },
    {
      "cell_type": "code",
      "source": [
        "conn = sqlite3.connect('superhero.db')\n",
        "cursor = conn.cursor()\n",
        "\n",
        "# Create the sidekicks table\n",
        "cursor.execute('''\n",
        "CREATE TABLE IF NOT EXISTS sidekicks (\n",
        "    SidekickID INTEGER PRIMARY KEY AUTOINCREMENT,\n",
        "    HeroID INTEGER,\n",
        "    SidekickName VARCHAR(100) NOT NULL,\n",
        "    SidekickSkill VARCHAR(100),\n",
        "    Teams VARCHAR(100)\n",
        ")\n",
        "''')\n",
        "\n",
        "print(\"Sidekick table created!\")\n",
        "\n",
        "# Sample data to insert into the sales table\n",
        "sidekick_data = [\n",
        "    (1, 1,'Ned Leeds', 'Technologically Advanced', 'Avengers'),\n",
        "    (2, 2, 'War Machine','Powered Armor', 'Avengers'),\n",
        "    (3, 2, 'Happy Hogan', 'Security', 'Avengers'),\n",
        "    (4, 3, 'Alfred Pennyworth', 'Hacker', 'Justice League'),\n",
        "    (5, 3, 'Robin',  'Martial Arts', 'Justice League'),\n",
        "    (6, 4, 'Lois Lane',  'Journalist', 'Justice League'),\n",
        "    (7, 4, 'Supergirl',  'Super Strength', 'Justice League'),\n",
        "    (8, 5, 'Loki',  'Sorcery', 'Avengers'),\n",
        "    (9, 5, 'Korg', 'Super Strength', 'Avengers'),\n",
        "    (10, 5, 'Valkyrie',  'Combat', 'Avengers'),\n",
        "    (11, 6, 'Stever Trevor',  'Pilot', 'Justice League'),\n",
        "    (12, 7, 'Shuri',  'Technologically Advanced', 'Avengers'),\n",
        "    (13, 7, \"M'Baku\",  'Combatant', 'Avengers'),\n",
        "    (14, 7, 'Okoye',  'Combatant', 'Avengers'),\n",
        "    (15, 7, 'Nakia',  'Spy', 'Avengers'),\n",
        "    (16, 8, 'Cisco Ramon',  'Vibe (view alternate timelines)', 'Justice League'),\n",
        "    (17, 8, 'Caitlyn Snow',  'Cryokinesis', 'Justice League'),\n",
        "    (18, 9, 'She-Hulk',  'Super Strength', 'Avengers'),\n",
        "    (19, 10, 'Wong',  'Mystic Arts', 'Avengers')\n",
        "]\n",
        "\n",
        "# Insert data into the table\n",
        "cursor.executemany('''\n",
        "INSERT INTO sidekicks (SidekickID, HeroID, SidekickName, SidekickSkill, Teams)\n",
        "VALUES (?, ?, ?, ?, ?)\n",
        "''', sidekick_data)\n",
        "\n",
        "# Commit the transaction\n",
        "conn.commit()\n",
        "\n",
        "\n",
        "# Close the connection\n",
        "cursor.close()\n",
        "conn.close()\n"
      ],
      "metadata": {
        "id": "7IODoAxjTJni",
        "colab": {
          "base_uri": "https://localhost:8080/"
        },
        "outputId": "d96864ce-965b-4d1a-d682-3446c89ac3b7"
      },
      "execution_count": null,
      "outputs": [
        {
          "output_type": "stream",
          "name": "stdout",
          "text": [
            "Sidekick table created!\n"
          ]
        }
      ]
    },
    {
      "cell_type": "code",
      "source": [
        "conn = sqlite3.connect('superhero.db')\n",
        "cursor = conn.cursor()\n",
        "\n",
        "cursor.execute('''\n",
        "SELECT Heroes.name, COUNT(SidekickID)\n",
        "  FROM sidekicks\n",
        "  JOIN Heroes ON sidekicks.HeroID = Heroes.id\n",
        "  GROUP BY Heroes.id\n",
        "  ORDER BY COUNT(sidekicks.SidekickID) DESC\n",
        "''')\n",
        "\n",
        "max_sidekicks = cursor.fetchone()\n",
        "\n",
        "print(f\"Superhero with the most sidekicks: {max_sidekicks[0]}\")\n",
        "\n",
        "# Close the connection\n",
        "cursor.close()\n",
        "conn.close()\n"
      ],
      "metadata": {
        "colab": {
          "base_uri": "https://localhost:8080/"
        },
        "id": "WzFr_2pR1jo-",
        "outputId": "ee4446d4-cc17-4da6-f87f-af6803180672"
      },
      "execution_count": null,
      "outputs": [
        {
          "output_type": "stream",
          "name": "stdout",
          "text": [
            "Superhero with the most sidekicks: Black Panther\n"
          ]
        }
      ]
    },
    {
      "cell_type": "markdown",
      "source": [
        "# Bonus Challenge (+5 Points)\n",
        "Tasks:\n",
        "- Enhance your project by adding a visual or interactive component.\n",
        "\n",
        "Options:\n",
        "\n",
        "- Visualize battles using Matplotlib (e.g., a bar chart showing how many battles each superhero has fought).\n",
        "- Make it interactive (e.g., allow users to input a superhero name and display their battles).\n",
        "✅ Checkpoint: If attempting the bonus, ensure that your visualization or interactive component works correctly.\n",
        "\n",
        "Submission Guidelines\n",
        "\n",
        "Each group must submit a Google Colab Notebook (.ipynb) containing:\n",
        "\n",
        "✅ Database schema (DDL)\n",
        "✅ CSV imports & data insertion (DML)\n",
        "✅ SQL queries & results\n",
        "✅ Custom feature (bonus if applicable)"
      ],
      "metadata": {
        "id": "GFYgvGi6Ht2s"
      }
    },
    {
      "cell_type": "code",
      "source": [
        "\n",
        "conn = sqlite3.connect('superhero.db')\n",
        "cursor = conn.cursor()\n",
        "\n",
        "query = '''\n",
        "SELECT team, COUNT(id) AS HeroCount\n",
        "FROM heroes\n",
        "GROUP BY team\n",
        "ORDER BY HeroCount DESC\n",
        "'''\n",
        "\n",
        "# Fetch data into a DataFrame\n",
        "df_teams = pd.read_sql_query(query, conn)\n",
        "\n",
        "cursor.close()\n",
        "conn.close()"
      ],
      "metadata": {
        "colab": {
          "base_uri": "https://localhost:8080/",
          "height": 125
        },
        "id": "H4kQflR2bb15",
        "outputId": "f91c149a-b067-49d7-e475-01ff8c5d18c2"
      },
      "execution_count": null,
      "outputs": [
        {
          "output_type": "execute_result",
          "data": {
            "text/plain": [
              "             team  HeroCount\n",
              "0        Avengers          6\n",
              "1  Justice League          4"
            ],
            "text/html": [
              "\n",
              "  <div id=\"df-5d7bb950-677a-41c5-a2f5-4ea964fdd359\" class=\"colab-df-container\">\n",
              "    <div>\n",
              "<style scoped>\n",
              "    .dataframe tbody tr th:only-of-type {\n",
              "        vertical-align: middle;\n",
              "    }\n",
              "\n",
              "    .dataframe tbody tr th {\n",
              "        vertical-align: top;\n",
              "    }\n",
              "\n",
              "    .dataframe thead th {\n",
              "        text-align: right;\n",
              "    }\n",
              "</style>\n",
              "<table border=\"1\" class=\"dataframe\">\n",
              "  <thead>\n",
              "    <tr style=\"text-align: right;\">\n",
              "      <th></th>\n",
              "      <th>team</th>\n",
              "      <th>HeroCount</th>\n",
              "    </tr>\n",
              "  </thead>\n",
              "  <tbody>\n",
              "    <tr>\n",
              "      <th>0</th>\n",
              "      <td>Avengers</td>\n",
              "      <td>6</td>\n",
              "    </tr>\n",
              "    <tr>\n",
              "      <th>1</th>\n",
              "      <td>Justice League</td>\n",
              "      <td>4</td>\n",
              "    </tr>\n",
              "  </tbody>\n",
              "</table>\n",
              "</div>\n",
              "    <div class=\"colab-df-buttons\">\n",
              "\n",
              "  <div class=\"colab-df-container\">\n",
              "    <button class=\"colab-df-convert\" onclick=\"convertToInteractive('df-5d7bb950-677a-41c5-a2f5-4ea964fdd359')\"\n",
              "            title=\"Convert this dataframe to an interactive table.\"\n",
              "            style=\"display:none;\">\n",
              "\n",
              "  <svg xmlns=\"http://www.w3.org/2000/svg\" height=\"24px\" viewBox=\"0 -960 960 960\">\n",
              "    <path d=\"M120-120v-720h720v720H120Zm60-500h600v-160H180v160Zm220 220h160v-160H400v160Zm0 220h160v-160H400v160ZM180-400h160v-160H180v160Zm440 0h160v-160H620v160ZM180-180h160v-160H180v160Zm440 0h160v-160H620v160Z\"/>\n",
              "  </svg>\n",
              "    </button>\n",
              "\n",
              "  <style>\n",
              "    .colab-df-container {\n",
              "      display:flex;\n",
              "      gap: 12px;\n",
              "    }\n",
              "\n",
              "    .colab-df-convert {\n",
              "      background-color: #E8F0FE;\n",
              "      border: none;\n",
              "      border-radius: 50%;\n",
              "      cursor: pointer;\n",
              "      display: none;\n",
              "      fill: #1967D2;\n",
              "      height: 32px;\n",
              "      padding: 0 0 0 0;\n",
              "      width: 32px;\n",
              "    }\n",
              "\n",
              "    .colab-df-convert:hover {\n",
              "      background-color: #E2EBFA;\n",
              "      box-shadow: 0px 1px 2px rgba(60, 64, 67, 0.3), 0px 1px 3px 1px rgba(60, 64, 67, 0.15);\n",
              "      fill: #174EA6;\n",
              "    }\n",
              "\n",
              "    .colab-df-buttons div {\n",
              "      margin-bottom: 4px;\n",
              "    }\n",
              "\n",
              "    [theme=dark] .colab-df-convert {\n",
              "      background-color: #3B4455;\n",
              "      fill: #D2E3FC;\n",
              "    }\n",
              "\n",
              "    [theme=dark] .colab-df-convert:hover {\n",
              "      background-color: #434B5C;\n",
              "      box-shadow: 0px 1px 3px 1px rgba(0, 0, 0, 0.15);\n",
              "      filter: drop-shadow(0px 1px 2px rgba(0, 0, 0, 0.3));\n",
              "      fill: #FFFFFF;\n",
              "    }\n",
              "  </style>\n",
              "\n",
              "    <script>\n",
              "      const buttonEl =\n",
              "        document.querySelector('#df-5d7bb950-677a-41c5-a2f5-4ea964fdd359 button.colab-df-convert');\n",
              "      buttonEl.style.display =\n",
              "        google.colab.kernel.accessAllowed ? 'block' : 'none';\n",
              "\n",
              "      async function convertToInteractive(key) {\n",
              "        const element = document.querySelector('#df-5d7bb950-677a-41c5-a2f5-4ea964fdd359');\n",
              "        const dataTable =\n",
              "          await google.colab.kernel.invokeFunction('convertToInteractive',\n",
              "                                                    [key], {});\n",
              "        if (!dataTable) return;\n",
              "\n",
              "        const docLinkHtml = 'Like what you see? Visit the ' +\n",
              "          '<a target=\"_blank\" href=https://colab.research.google.com/notebooks/data_table.ipynb>data table notebook</a>'\n",
              "          + ' to learn more about interactive tables.';\n",
              "        element.innerHTML = '';\n",
              "        dataTable['output_type'] = 'display_data';\n",
              "        await google.colab.output.renderOutput(dataTable, element);\n",
              "        const docLink = document.createElement('div');\n",
              "        docLink.innerHTML = docLinkHtml;\n",
              "        element.appendChild(docLink);\n",
              "      }\n",
              "    </script>\n",
              "  </div>\n",
              "\n",
              "\n",
              "<div id=\"df-58759a17-4c4f-47f0-a341-4595b13fb31a\">\n",
              "  <button class=\"colab-df-quickchart\" onclick=\"quickchart('df-58759a17-4c4f-47f0-a341-4595b13fb31a')\"\n",
              "            title=\"Suggest charts\"\n",
              "            style=\"display:none;\">\n",
              "\n",
              "<svg xmlns=\"http://www.w3.org/2000/svg\" height=\"24px\"viewBox=\"0 0 24 24\"\n",
              "     width=\"24px\">\n",
              "    <g>\n",
              "        <path d=\"M19 3H5c-1.1 0-2 .9-2 2v14c0 1.1.9 2 2 2h14c1.1 0 2-.9 2-2V5c0-1.1-.9-2-2-2zM9 17H7v-7h2v7zm4 0h-2V7h2v10zm4 0h-2v-4h2v4z\"/>\n",
              "    </g>\n",
              "</svg>\n",
              "  </button>\n",
              "\n",
              "<style>\n",
              "  .colab-df-quickchart {\n",
              "      --bg-color: #E8F0FE;\n",
              "      --fill-color: #1967D2;\n",
              "      --hover-bg-color: #E2EBFA;\n",
              "      --hover-fill-color: #174EA6;\n",
              "      --disabled-fill-color: #AAA;\n",
              "      --disabled-bg-color: #DDD;\n",
              "  }\n",
              "\n",
              "  [theme=dark] .colab-df-quickchart {\n",
              "      --bg-color: #3B4455;\n",
              "      --fill-color: #D2E3FC;\n",
              "      --hover-bg-color: #434B5C;\n",
              "      --hover-fill-color: #FFFFFF;\n",
              "      --disabled-bg-color: #3B4455;\n",
              "      --disabled-fill-color: #666;\n",
              "  }\n",
              "\n",
              "  .colab-df-quickchart {\n",
              "    background-color: var(--bg-color);\n",
              "    border: none;\n",
              "    border-radius: 50%;\n",
              "    cursor: pointer;\n",
              "    display: none;\n",
              "    fill: var(--fill-color);\n",
              "    height: 32px;\n",
              "    padding: 0;\n",
              "    width: 32px;\n",
              "  }\n",
              "\n",
              "  .colab-df-quickchart:hover {\n",
              "    background-color: var(--hover-bg-color);\n",
              "    box-shadow: 0 1px 2px rgba(60, 64, 67, 0.3), 0 1px 3px 1px rgba(60, 64, 67, 0.15);\n",
              "    fill: var(--button-hover-fill-color);\n",
              "  }\n",
              "\n",
              "  .colab-df-quickchart-complete:disabled,\n",
              "  .colab-df-quickchart-complete:disabled:hover {\n",
              "    background-color: var(--disabled-bg-color);\n",
              "    fill: var(--disabled-fill-color);\n",
              "    box-shadow: none;\n",
              "  }\n",
              "\n",
              "  .colab-df-spinner {\n",
              "    border: 2px solid var(--fill-color);\n",
              "    border-color: transparent;\n",
              "    border-bottom-color: var(--fill-color);\n",
              "    animation:\n",
              "      spin 1s steps(1) infinite;\n",
              "  }\n",
              "\n",
              "  @keyframes spin {\n",
              "    0% {\n",
              "      border-color: transparent;\n",
              "      border-bottom-color: var(--fill-color);\n",
              "      border-left-color: var(--fill-color);\n",
              "    }\n",
              "    20% {\n",
              "      border-color: transparent;\n",
              "      border-left-color: var(--fill-color);\n",
              "      border-top-color: var(--fill-color);\n",
              "    }\n",
              "    30% {\n",
              "      border-color: transparent;\n",
              "      border-left-color: var(--fill-color);\n",
              "      border-top-color: var(--fill-color);\n",
              "      border-right-color: var(--fill-color);\n",
              "    }\n",
              "    40% {\n",
              "      border-color: transparent;\n",
              "      border-right-color: var(--fill-color);\n",
              "      border-top-color: var(--fill-color);\n",
              "    }\n",
              "    60% {\n",
              "      border-color: transparent;\n",
              "      border-right-color: var(--fill-color);\n",
              "    }\n",
              "    80% {\n",
              "      border-color: transparent;\n",
              "      border-right-color: var(--fill-color);\n",
              "      border-bottom-color: var(--fill-color);\n",
              "    }\n",
              "    90% {\n",
              "      border-color: transparent;\n",
              "      border-bottom-color: var(--fill-color);\n",
              "    }\n",
              "  }\n",
              "</style>\n",
              "\n",
              "  <script>\n",
              "    async function quickchart(key) {\n",
              "      const quickchartButtonEl =\n",
              "        document.querySelector('#' + key + ' button');\n",
              "      quickchartButtonEl.disabled = true;  // To prevent multiple clicks.\n",
              "      quickchartButtonEl.classList.add('colab-df-spinner');\n",
              "      try {\n",
              "        const charts = await google.colab.kernel.invokeFunction(\n",
              "            'suggestCharts', [key], {});\n",
              "      } catch (error) {\n",
              "        console.error('Error during call to suggestCharts:', error);\n",
              "      }\n",
              "      quickchartButtonEl.classList.remove('colab-df-spinner');\n",
              "      quickchartButtonEl.classList.add('colab-df-quickchart-complete');\n",
              "    }\n",
              "    (() => {\n",
              "      let quickchartButtonEl =\n",
              "        document.querySelector('#df-58759a17-4c4f-47f0-a341-4595b13fb31a button');\n",
              "      quickchartButtonEl.style.display =\n",
              "        google.colab.kernel.accessAllowed ? 'block' : 'none';\n",
              "    })();\n",
              "  </script>\n",
              "</div>\n",
              "\n",
              "  <div id=\"id_c9c54f55-54d3-46aa-b712-b59b46f371fd\">\n",
              "    <style>\n",
              "      .colab-df-generate {\n",
              "        background-color: #E8F0FE;\n",
              "        border: none;\n",
              "        border-radius: 50%;\n",
              "        cursor: pointer;\n",
              "        display: none;\n",
              "        fill: #1967D2;\n",
              "        height: 32px;\n",
              "        padding: 0 0 0 0;\n",
              "        width: 32px;\n",
              "      }\n",
              "\n",
              "      .colab-df-generate:hover {\n",
              "        background-color: #E2EBFA;\n",
              "        box-shadow: 0px 1px 2px rgba(60, 64, 67, 0.3), 0px 1px 3px 1px rgba(60, 64, 67, 0.15);\n",
              "        fill: #174EA6;\n",
              "      }\n",
              "\n",
              "      [theme=dark] .colab-df-generate {\n",
              "        background-color: #3B4455;\n",
              "        fill: #D2E3FC;\n",
              "      }\n",
              "\n",
              "      [theme=dark] .colab-df-generate:hover {\n",
              "        background-color: #434B5C;\n",
              "        box-shadow: 0px 1px 3px 1px rgba(0, 0, 0, 0.15);\n",
              "        filter: drop-shadow(0px 1px 2px rgba(0, 0, 0, 0.3));\n",
              "        fill: #FFFFFF;\n",
              "      }\n",
              "    </style>\n",
              "    <button class=\"colab-df-generate\" onclick=\"generateWithVariable('df_teams')\"\n",
              "            title=\"Generate code using this dataframe.\"\n",
              "            style=\"display:none;\">\n",
              "\n",
              "  <svg xmlns=\"http://www.w3.org/2000/svg\" height=\"24px\"viewBox=\"0 0 24 24\"\n",
              "       width=\"24px\">\n",
              "    <path d=\"M7,19H8.4L18.45,9,17,7.55,7,17.6ZM5,21V16.75L18.45,3.32a2,2,0,0,1,2.83,0l1.4,1.43a1.91,1.91,0,0,1,.58,1.4,1.91,1.91,0,0,1-.58,1.4L9.25,21ZM18.45,9,17,7.55Zm-12,3A5.31,5.31,0,0,0,4.9,8.1,5.31,5.31,0,0,0,1,6.5,5.31,5.31,0,0,0,4.9,4.9,5.31,5.31,0,0,0,6.5,1,5.31,5.31,0,0,0,8.1,4.9,5.31,5.31,0,0,0,12,6.5,5.46,5.46,0,0,0,6.5,12Z\"/>\n",
              "  </svg>\n",
              "    </button>\n",
              "    <script>\n",
              "      (() => {\n",
              "      const buttonEl =\n",
              "        document.querySelector('#id_c9c54f55-54d3-46aa-b712-b59b46f371fd button.colab-df-generate');\n",
              "      buttonEl.style.display =\n",
              "        google.colab.kernel.accessAllowed ? 'block' : 'none';\n",
              "\n",
              "      buttonEl.onclick = () => {\n",
              "        google.colab.notebook.generateWithVariable('df_teams');\n",
              "      }\n",
              "      })();\n",
              "    </script>\n",
              "  </div>\n",
              "\n",
              "    </div>\n",
              "  </div>\n"
            ],
            "application/vnd.google.colaboratory.intrinsic+json": {
              "type": "dataframe",
              "variable_name": "df_teams",
              "summary": "{\n  \"name\": \"df_teams\",\n  \"rows\": 2,\n  \"fields\": [\n    {\n      \"column\": \"team\",\n      \"properties\": {\n        \"dtype\": \"string\",\n        \"num_unique_values\": 2,\n        \"samples\": [\n          \"Justice League\",\n          \"Avengers\"\n        ],\n        \"semantic_type\": \"\",\n        \"description\": \"\"\n      }\n    },\n    {\n      \"column\": \"HeroCount\",\n      \"properties\": {\n        \"dtype\": \"number\",\n        \"std\": 1,\n        \"min\": 4,\n        \"max\": 6,\n        \"num_unique_values\": 2,\n        \"samples\": [\n          4,\n          6\n        ],\n        \"semantic_type\": \"\",\n        \"description\": \"\"\n      }\n    }\n  ]\n}"
            }
          },
          "metadata": {},
          "execution_count": 17
        }
      ]
    },
    {
      "cell_type": "code",
      "source": [
        "import matplotlib.pyplot as plt\n",
        "\n",
        "# Plot number of heroes in each team\n",
        "plt.figure(figsize=(10,6))\n",
        "plt.bar(df_teams['team'], df_teams['HeroCount'], color='red')\n",
        "plt.xlabel('Team')\n",
        "plt.ylabel('Number of Heroes')\n",
        "plt.title('Number of Heroes per Team')\n",
        "plt.xticks(rotation=45)\n",
        "plt.tight_layout()\n",
        "plt.show()\n"
      ],
      "metadata": {
        "id": "BTsN-Pq6T3zQ",
        "colab": {
          "base_uri": "https://localhost:8080/",
          "height": 528
        },
        "outputId": "5f390e56-d07a-4291-8bb6-2e71e2e9b489"
      },
      "execution_count": null,
      "outputs": [
        {
          "output_type": "display_data",
          "data": {
            "text/plain": [
              "<Figure size 1000x600 with 1 Axes>"
            ],
            "image/png": "[encoded data removed]"
          },
          "metadata": {}
        }
      ]
    },
    {
      "cell_type": "code",
      "source": [
        "battles_fought\n",
        "\n",
        "superheroes = [hero[0] for hero in battles_fought]\n",
        "battle_counts = [hero[1] for hero in battles_fought]"
      ],
      "metadata": {
        "id": "N1u3WtwIj0lS"
      },
      "execution_count": null,
      "outputs": []
    },
    {
      "cell_type": "code",
      "source": [
        "# Plot number of heroes in each team\n",
        "plt.figure(figsize=(10,6))\n",
        "plt.bar(superheroes, battle_counts, color='blue')\n",
        "plt.xlabel('Superhero')\n",
        "plt.ylabel('Number of Battles Fought')\n",
        "plt.title('Number of Battles Fought per Superhero')\n",
        "plt.xticks(rotation=45)\n",
        "plt.tight_layout()\n",
        "plt.show()"
      ],
      "metadata": {
        "colab": {
          "base_uri": "https://localhost:8080/",
          "height": 528
        },
        "id": "Q8MZWa7ji7yp",
        "outputId": "379b8ebc-10ef-452c-af46-9cf74d68ec6e"
      },
      "execution_count": null,
      "outputs": [
        {
          "output_type": "display_data",
          "data": {
            "text/plain": [
              "<Figure size 1000x600 with 1 Axes>"
            ],
            "image/png": "[encoded data removed]"
          },
          "metadata": {}
        }
      ]
    }
  ]
}